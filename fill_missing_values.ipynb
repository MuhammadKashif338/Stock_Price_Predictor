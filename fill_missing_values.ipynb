{
 "cells": [
  {
   "cell_type": "code",
   "execution_count": null,
   "metadata": {},
   "outputs": [],
   "source": [
    "import csv"
   ]
  },
  {
   "cell_type": "code",
   "execution_count": null,
   "metadata": {},
   "outputs": [],
   "source": [
    "header = [\"YEAR\", \"MONTH\", \"DAY\", \"OPEN\", \"HIGH\", \"LOW\", \"CLOSE\", \"VOLUME\"]"
   ]
  },
  {
   "cell_type": "code",
   "execution_count": null,
   "metadata": {},
   "outputs": [],
   "source": [
    "test = True"
   ]
  },
  {
   "cell_type": "code",
   "execution_count": null,
   "metadata": {},
   "outputs": [],
   "source": [
    "if test:\n",
    "    years = [2024]\n",
    "    months = range(1, 7)\n",
    "    directory = \"test\"\n",
    "else:\n",
    "    years = [2020, 2021, 2022, 2023]\n",
    "    months = range(1, 13)\n",
    "    directory = \"train\""
   ]
  },
  {
   "cell_type": "code",
   "execution_count": null,
   "metadata": {},
   "outputs": [],
   "source": [
    "def days_in_month_year(month, year):\n",
    "    if month in [1, 3, 5, 7, 8, 10, 12]:\n",
    "        return 31\n",
    "    elif month in [4, 6, 9, 11]:\n",
    "        return 30\n",
    "    else:\n",
    "        return 29 if year % 4 == 0 else 28"
   ]
  },
  {
   "cell_type": "code",
   "execution_count": null,
   "metadata": {},
   "outputs": [],
   "source": [
    "for year in years:\n",
    "    for month in months:\n",
    "        print(days_in_month_year(month, year), end=\" \")\n",
    "    print()"
   ]
  },
  {
   "cell_type": "code",
   "execution_count": null,
   "metadata": {},
   "outputs": [],
   "source": [
    "records = []\n",
    "\n",
    "last = None\n",
    "\n",
    "for year in years:\n",
    "    for month in months:\n",
    "        monthly = []\n",
    "        with open(f\"data/PSX/raw/{directory}/{year}/{month}.csv\") as f:\n",
    "            csv_reader = csv.reader(f)\n",
    "            max_days_in_month = days_in_month_year(month, year)\n",
    "            i_day = 0\n",
    "            for row in csv_reader:\n",
    "                if i_day == 0:\n",
    "                    i_day += 1\n",
    "                    continue\n",
    "                real_day = int(row[2])\n",
    "                while i_day != real_day and i_day < max_days_in_month:\n",
    "                    copy = last.copy()\n",
    "                    copy[0] = str(year)\n",
    "                    copy[1] = str(month)\n",
    "                    copy[2] = str(i_day)\n",
    "                    monthly.append(copy)\n",
    "                    i_day += 1\n",
    "                monthly.append(row)\n",
    "                last = row\n",
    "                i_day += 1\n",
    "\n",
    "        while i_day <= max_days_in_month:\n",
    "            copy = last.copy()\n",
    "            copy[0] = str(year)\n",
    "            copy[1] = str(month)\n",
    "            copy[2] = str(i_day)\n",
    "            monthly.append(copy)\n",
    "            i_day += 1\n",
    "\n",
    "        with open(f\"data/PSX/processed/{directory}/{year}/{month}.csv\", \"w\") as f:\n",
    "            csv_writer = csv.writer(f)\n",
    "            csv_writer.writerow(header)\n",
    "            csv_writer.writerows(monthly)\n",
    "        print(len(monthly), max_days_in_month, i_day - 1 == max_days_in_month)\n",
    "        records.extend(monthly)"
   ]
  },
  {
   "cell_type": "code",
   "execution_count": null,
   "metadata": {},
   "outputs": [],
   "source": [
    "len(monthly)"
   ]
  },
  {
   "cell_type": "code",
   "execution_count": null,
   "metadata": {},
   "outputs": [],
   "source": [
    "len(records)"
   ]
  },
  {
   "cell_type": "code",
   "execution_count": null,
   "metadata": {},
   "outputs": [],
   "source": [
    "with open(f\"data/PSX/processed/{directory}/data.csv\", \"w\") as f:\n",
    "    csv_writer = csv.writer(f)\n",
    "    csv_writer.writerow(header)\n",
    "    csv_writer.writerows(records)"
   ]
  },
  {
   "cell_type": "code",
   "execution_count": null,
   "metadata": {},
   "outputs": [],
   "source": []
  }
 ],
 "metadata": {
  "kernelspec": {
   "display_name": "Python 3",
   "language": "python",
   "name": "python3"
  },
  "language_info": {
   "codemirror_mode": {
    "name": "ipython",
    "version": 3
   },
   "file_extension": ".py",
   "mimetype": "text/x-python",
   "name": "python",
   "nbconvert_exporter": "python",
   "pygments_lexer": "ipython3",
   "version": "3.12.3"
  }
 },
 "nbformat": 4,
 "nbformat_minor": 2
}
