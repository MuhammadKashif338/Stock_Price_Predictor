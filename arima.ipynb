{
  "cells": [
    {
      "cell_type": "code",
      "execution_count": null,
      "metadata": {},
      "outputs": [],
      "source": [
        "import numpy as np\n",
        "import pandas as pd\n",
        "import matplotlib.pyplot as plt"
      ]
    },
    {
      "cell_type": "code",
      "execution_count": null,
      "metadata": {},
      "outputs": [],
      "source": [
        "from statsmodels.tsa.stattools import adfuller\n",
        "from statsmodels.graphics.tsaplots import plot_acf, plot_pacf\n",
        "from statsmodels.regression.linear_model import OLS"
      ]
    },
    {
      "cell_type": "code",
      "execution_count": null,
      "metadata": {},
      "outputs": [],
      "source": [
        "def load_data(data_path):\n",
        "    data = pd.read_csv(data_path)\n",
        "    data[\"DATE\"] = pd.to_datetime(data[[\"YEAR\", \"MONTH\", \"DAY\"]])\n",
        "    data.set_index(\"DATE\", inplace=True)\n",
        "    data.drop(columns=[\"YEAR\", \"MONTH\", \"DAY\"], inplace=True)\n",
        "    return data"
      ]
    },
    {
      "cell_type": "code",
      "execution_count": null,
      "metadata": {},
      "outputs": [],
      "source": [
        "TRAINING_DATA_PATH = \"data/PSX/raw/train/data.csv\"\n",
        "TESTING_DATA_PATH = \"data/PSX/raw/test/data.csv\""
      ]
    },
    {
      "cell_type": "code",
      "execution_count": null,
      "metadata": {},
      "outputs": [],
      "source": [
        "training_data = load_data(TRAINING_DATA_PATH)\n",
        "training_data.info()"
      ]
    },
    {
      "cell_type": "code",
      "execution_count": null,
      "metadata": {},
      "outputs": [],
      "source": [
        "training_data.head()"
      ]
    },
    {
      "cell_type": "code",
      "execution_count": null,
      "metadata": {},
      "outputs": [],
      "source": [
        "plt.figure(figsize=(12, 6))\n",
        "plt.plot(training_data[\"CLOSE\"])\n",
        "plt.title(\"STOCK PRICES (TRAINING - DAILY)\")\n",
        "plt.xlabel(\"DATE\")\n",
        "plt.ylabel(\"CLOSING PRICE\")\n",
        "plt.show()"
      ]
    },
    {
      "cell_type": "code",
      "execution_count": null,
      "metadata": {},
      "outputs": [],
      "source": [
        "weekly_training_data = training_data.resample(\"W\").mean().dropna()\n",
        "weekly_training_data.info()"
      ]
    },
    {
      "cell_type": "code",
      "execution_count": null,
      "metadata": {},
      "outputs": [],
      "source": [
        "weekly_training_data.head()"
      ]
    },
    {
      "cell_type": "code",
      "execution_count": null,
      "metadata": {},
      "outputs": [],
      "source": [
        "plt.figure(figsize=(12, 6))\n",
        "plt.plot(weekly_training_data[\"CLOSE\"])\n",
        "plt.title(\"STOCK PRICES (TRAINING - WEEKLY)\")\n",
        "plt.xlabel(\"DATE\")\n",
        "plt.ylabel(\"CLOSING PRICE\")\n",
        "plt.show()"
      ]
    },
    {
      "cell_type": "code",
      "execution_count": null,
      "metadata": {},
      "outputs": [],
      "source": [
        "testing_data = load_data(TESTING_DATA_PATH)\n",
        "testing_data.info()"
      ]
    },
    {
      "cell_type": "code",
      "execution_count": null,
      "metadata": {},
      "outputs": [],
      "source": [
        "testing_data.head()"
      ]
    },
    {
      "cell_type": "code",
      "execution_count": null,
      "metadata": {},
      "outputs": [],
      "source": [
        "plt.figure(figsize=(12, 6))\n",
        "plt.plot(testing_data[\"CLOSE\"])\n",
        "plt.title(\"STOCK PRICES (TESTING - DAILY)\")\n",
        "plt.xlabel(\"DATE\")\n",
        "plt.ylabel(\"CLOSING PRICE\")\n",
        "plt.show()"
      ]
    },
    {
      "cell_type": "code",
      "execution_count": null,
      "metadata": {},
      "outputs": [],
      "source": [
        "weekly_testing_data = testing_data.resample(\"W\").mean().dropna()\n",
        "weekly_testing_data.info()"
      ]
    },
    {
      "cell_type": "code",
      "execution_count": null,
      "metadata": {},
      "outputs": [],
      "source": [
        "weekly_testing_data.head()"
      ]
    },
    {
      "cell_type": "code",
      "execution_count": null,
      "metadata": {},
      "outputs": [],
      "source": [
        "plt.figure(figsize=(12, 6))\n",
        "plt.plot(weekly_testing_data[\"CLOSE\"])\n",
        "plt.title(\"STOCK PRICES (TESTING - WEEKLY)\")\n",
        "plt.xlabel(\"DATE\")\n",
        "plt.ylabel(\"CLOSING PRICE\")\n",
        "plt.show()"
      ]
    },
    {
      "cell_type": "code",
      "execution_count": null,
      "metadata": {},
      "outputs": [],
      "source": [
        "result = adfuller(training_data[\"CLOSE\"])\n",
        "print(\"ADF Statistic:\", result[0])\n",
        "print(\"p-value:\", result[1])"
      ]
    },
    {
      "cell_type": "code",
      "execution_count": null,
      "metadata": {},
      "outputs": [],
      "source": [
        "THRESH = 0.01\n",
        "\n",
        "X = training_data[\"CLOSE\"].copy()\n",
        "plt.plot(X)\n",
        "while True:\n",
        "    _, p_value, *_ = adfuller(X)\n",
        "    if p_value > THRESH:\n",
        "        X = np.log(X).diff().dropna()\n",
        "    else:\n",
        "        break"
      ]
    },
    {
      "cell_type": "code",
      "execution_count": null,
      "metadata": {},
      "outputs": [],
      "source": [
        "plt.plot(X)"
      ]
    },
    {
      "cell_type": "code",
      "execution_count": null,
      "metadata": {
        "id": "5_XPMftH2cD4"
      },
      "outputs": [],
      "source": [
        "class ARIMA:\n",
        "    def __init__(self, data, p, d, q):\n",
        "        self.data = data\n",
        "        self.p = p\n",
        "        self.d = d\n",
        "        self.q = q\n",
        "\n",
        "    def fit(self):\n",
        "        diff_data = self.data\n",
        "        for _ in range(self.d):\n",
        "            diff_data = diff_data.diff().dropna()\n",
        "\n",
        "        plot_acf(self.data, lags=31)\n",
        "        plot_pacf(self.data, lags=31)\n",
        "\n",
        "        X = np.column_stack([diff_data.shift(i) for i in range(1, self.p + 1)])\n",
        "        X = X[self.p :]\n",
        "        y = diff_data[self.p :]\n",
        "        self.model_ar = OLS(y, X).fit()\n",
        "\n",
        "        self.residuals = y - self.model_ar.predict(X)\n",
        "        self.residuals = self.residuals[self.q :]\n",
        "\n",
        "        X_residuals = np.column_stack(\n",
        "            [self.residuals.shift(i) for i in range(1, self.q + 1)]\n",
        "        )\n",
        "        X_residuals = X_residuals[self.q :]\n",
        "        y_residuals = self.residuals[self.q :]\n",
        "\n",
        "        self.model_ma = OLS(y_residuals, X_residuals).fit()\n",
        "\n",
        "    def predict(self, steps):\n",
        "        predictions = []\n",
        "        last_data = self.data[-self.p :]\n",
        "        for _ in range(steps):\n",
        "            ar_part = np.dot(self.model_ar.params, last_data[-self.p :])\n",
        "            ma_part = np.dot(self.model_ma.params, self.residuals[-self.q :])\n",
        "            prediction = ar_part + ma_part\n",
        "            predictions.append(prediction)\n",
        "\n",
        "            last_data = np.append(last_data, prediction)\n",
        "            self.residuals = np.append(self.residuals, prediction - ar_part)\n",
        "\n",
        "        return predictions"
      ]
    },
    {
      "cell_type": "code",
      "execution_count": null,
      "metadata": {},
      "outputs": [],
      "source": [
        "arima = ARIMA(training_data[\"CLOSE\"], p=1, d=0, q=253)\n",
        "arima.fit()"
      ]
    },
    {
      "cell_type": "code",
      "execution_count": null,
      "metadata": {},
      "outputs": [],
      "source": [
        "steps = 182\n",
        "pred_dates = pd.date_range(\n",
        "    start=testing_data.index[0],\n",
        "    periods=steps,\n",
        "    # freq=\"W-SUN\",\n",
        ")\n",
        "pred_dates"
      ]
    },
    {
      "cell_type": "code",
      "execution_count": null,
      "metadata": {},
      "outputs": [],
      "source": [
        "predictions = arima.predict(steps=steps)\n",
        "[float(p) for p in predictions]"
      ]
    },
    {
      "cell_type": "code",
      "execution_count": null,
      "metadata": {},
      "outputs": [],
      "source": [
        "predictions = pd.Series(predictions, index=pred_dates)\n",
        "predictions"
      ]
    },
    {
      "cell_type": "code",
      "execution_count": null,
      "metadata": {},
      "outputs": [],
      "source": [
        "plt.figure(figsize=(12, 6))\n",
        "plt.plot(training_data[\"CLOSE\"], label=\"TRAINING DATA\")\n",
        "plt.plot(testing_data[\"CLOSE\"][:steps], label=\"TESTING DATA\", color=\"green\")\n",
        "plt.plot(predictions, label=\"PREDICTIONS\", color=\"red\")\n",
        "plt.title(\"STOCK PRICES PREDICTIONS BY ARIMA (WEEKLY)\")\n",
        "plt.xlabel(\"DATE\")\n",
        "plt.ylabel(\"CLOSING PRICE\")\n",
        "plt.legend()\n",
        "plt.show()"
      ]
    },
    {
      "cell_type": "code",
      "execution_count": null,
      "metadata": {},
      "outputs": [],
      "source": [
        "plt.figure(figsize=(12, 6))\n",
        "plt.plot(testing_data[\"CLOSE\"][:steps], label=\"TESTING DATA\", color=\"green\")\n",
        "plt.plot(predictions, label=\"PREDICTIONS\", color=\"red\")\n",
        "plt.title(\"STOCK PRICES PREDICTIONS BY ARIMA (WEEKLY)\")\n",
        "plt.xlabel(\"DATE\")\n",
        "plt.ylabel(\"CLOSING PRICE\")\n",
        "plt.legend()\n",
        "plt.show()"
      ]
    }
  ],
  "metadata": {
    "colab": {
      "provenance": []
    },
    "kernelspec": {
      "display_name": "Python 3",
      "name": "python3"
    },
    "language_info": {
      "codemirror_mode": {
        "name": "ipython",
        "version": 3
      },
      "file_extension": ".py",
      "mimetype": "text/x-python",
      "name": "python",
      "nbconvert_exporter": "python",
      "pygments_lexer": "ipython3",
      "version": "3.12.3"
    }
  },
  "nbformat": 4,
  "nbformat_minor": 0
}
